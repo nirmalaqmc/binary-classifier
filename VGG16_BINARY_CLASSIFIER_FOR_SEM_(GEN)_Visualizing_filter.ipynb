{
  "nbformat": 4,
  "nbformat_minor": 0,
  "metadata": {
    "colab": {
      "name": "VGG16 BINARY CLASSIFIER FOR SEM (GEN) Visualizing filter.ipynb",
      "provenance": [],
      "collapsed_sections": [],
      "include_colab_link": true
    },
    "kernelspec": {
      "name": "python3",
      "display_name": "Python 3"
    },
    "accelerator": "GPU"
  },
  "cells": [
    {
      "cell_type": "markdown",
      "metadata": {
        "id": "view-in-github",
        "colab_type": "text"
      },
      "source": [
        "<a href=\"https://colab.research.google.com/github/nirmalaqmc/binary-classifier/blob/main/VGG16_BINARY_CLASSIFIER_FOR_SEM_(GEN)_Visualizing_filter.ipynb\" target=\"_parent\"><img src=\"https://colab.research.google.com/assets/colab-badge.svg\" alt=\"Open In Colab\"/></a>"
      ]
    },
    {
      "cell_type": "code",
      "metadata": {
        "id": "cWyrAcjNzAj_"
      },
      "source": [
        "#!pip install q keras==2.2.4"
      ],
      "execution_count": null,
      "outputs": []
    },
    {
      "cell_type": "markdown",
      "metadata": {
        "id": "Q4tfacsdsYFD"
      },
      "source": [
        "Paper https://www.nature.com/articles/sdata2018172\n",
        "\n",
        "Dataset https://b2share.eudat.eu/records/80df8606fcdb4b2bae1656f0dc6db8ba"
      ]
    },
    {
      "cell_type": "markdown",
      "metadata": {
        "id": "TsOUaD9jsbYg"
      },
      "source": [
        "\n"
      ]
    },
    {
      "cell_type": "markdown",
      "metadata": {
        "id": "maF6hnDh-mKd"
      },
      "source": [
        "\n",
        "\n",
        "```\n",
        "# This is a  Deep Learning based CNN Image classifer, transfer learning is used. Intial layers are set to trainable , then other layers\n",
        "\n",
        "Goal is is to improve the accuracy. e \n",
        "Final output is a trained model file. it will be downloaded into the hardisk. \n",
        "```\n",
        "\n"
      ]
    },
    {
      "cell_type": "code",
      "metadata": {
        "id": "_p1JPUVfgnjy"
      },
      "source": [
        ""
      ],
      "execution_count": null,
      "outputs": []
    },
    {
      "cell_type": "code",
      "metadata": {
        "id": "YnYN-YuqrYrX",
        "colab": {
          "base_uri": "https://localhost:8080/"
        },
        "outputId": "24b4135f-5041-4f70-fd4b-a12680b7ad35"
      },
      "source": [
        "#delete the directory named mynewfiles including its subfolders with the rm -r command \n",
        "!rm -r mynewfiles\n",
        "!rm -r tempzipfolder"
      ],
      "execution_count": null,
      "outputs": [
        {
          "output_type": "stream",
          "text": [
            "rm: cannot remove 'mynewfiles': No such file or directory\n",
            "rm: cannot remove 'tempzipfolder': No such file or directory\n"
          ],
          "name": "stdout"
        }
      ]
    },
    {
      "cell_type": "code",
      "metadata": {
        "id": "02lHc0NIpEFN"
      },
      "source": [
        "!mkdir mynewfiles\n",
        "!mkdir tempzipfolder"
      ],
      "execution_count": null,
      "outputs": []
    },
    {
      "cell_type": "markdown",
      "metadata": {
        "id": "m3zCHjoc5Pn8"
      },
      "source": [
        "#  **Step 1:**  Decide how many classes(n) and download the images into n folders \n",
        "a. Decide number of types of classify  (Do you want to segregate the images into 2 buckets ? Or do you want to segreagate into 5 buckets)  \n",
        "\n",
        "```\n",
        "# SET_NUMBER_OF_CLASSES = 2\n",
        "```\n",
        "\n",
        "\n",
        "\n",
        "b. Create folder1, folder2, folder3.... based on number of buckets \n",
        "\n",
        "```\n",
        "# \n",
        "mkdir mynewfiles/folder3\n",
        "mkdir mynewfiles/folder4\n",
        "\n",
        "```\n",
        "\n",
        "\n",
        "\n",
        "c. Download the ZIP files from the Dataset ( https://b2share.eudat.eu/records/80df8606fcdb4b2bae1656f0dc6db8ba), extract the files \n",
        "\n",
        "d. Based on the n folders, copy the respective files into n classes. Plan this step carefully . Example you can download 3 tar files such as Nanowires , Tips, Particles, Then move them into 2 folders. You want to find is it a nanowire or not a nanowire. So other images you put into folder2.  \n",
        "\n",
        "```\n",
        "# \n",
        "  mv tempzipfolder/Nanowires/*.*    mynewfiles/folder1\n",
        "\n",
        "  mv tempzipfolder/Tips/*.*    mynewfiles/folder2  \n",
        "  \n",
        "  mv tempzipfolder/Particles/*.*    mynewfiles/folder2\n",
        "```\n",
        "\n",
        "\n",
        "\n"
      ]
    },
    {
      "cell_type": "code",
      "metadata": {
        "id": "fiaCkTVZAiQV"
      },
      "source": [
        ""
      ],
      "execution_count": null,
      "outputs": []
    },
    {
      "cell_type": "code",
      "metadata": {
        "id": "POBWAropFBCX"
      },
      "source": [
        "!mkdir mynewfiles/folder1\n",
        "!mkdir mynewfiles/folder2"
      ],
      "execution_count": null,
      "outputs": []
    },
    {
      "cell_type": "code",
      "metadata": {
        "id": "LYL4Py_opEO5",
        "colab": {
          "base_uri": "https://localhost:8080/"
        },
        "outputId": "25ba00e7-1bfe-4efe-aa2b-44683ad3db6a"
      },
      "source": [
        "# source URL for dataset: https://b2share.eudat.eu/records/72758204db9044ab8b3e6b6c4d2eb576\n",
        "\n",
        "!wget https://b2share.eudat.eu/api/files/e3126ced-cb0b-4fde-a081-1aad550cae86/Nanowires.tar -O /tmp/dir2.tar\n",
        "\n",
        "!wget https://b2share.eudat.eu/api/files/87275d32-0908-45bc-89e2-8f3d86029283/Patterned_surface.tar -O /tmp/dir1.tar"
      ],
      "execution_count": null,
      "outputs": [
        {
          "output_type": "stream",
          "text": [
            "--2021-03-12 18:46:46--  https://b2share.eudat.eu/api/files/e3126ced-cb0b-4fde-a081-1aad550cae86/Nanowires.tar\n",
            "Resolving b2share.eudat.eu (b2share.eudat.eu)... 86.50.166.74\n",
            "Connecting to b2share.eudat.eu (b2share.eudat.eu)|86.50.166.74|:443... connected.\n",
            "HTTP request sent, awaiting response... 200 OK\n",
            "Length: 2203371520 (2.1G) [application/octet-stream]\n",
            "Saving to: ‘/tmp/dir2.tar’\n",
            "\n",
            "/tmp/dir2.tar       100%[===================>]   2.05G  55.9MB/s    in 40s     \n",
            "\n",
            "2021-03-12 18:47:26 (52.4 MB/s) - ‘/tmp/dir2.tar’ saved [2203371520/2203371520]\n",
            "\n",
            "--2021-03-12 18:47:26--  https://b2share.eudat.eu/api/files/87275d32-0908-45bc-89e2-8f3d86029283/Patterned_surface.tar\n",
            "Resolving b2share.eudat.eu (b2share.eudat.eu)... 86.50.166.74\n",
            "Connecting to b2share.eudat.eu (b2share.eudat.eu)|86.50.166.74|:443... connected.\n",
            "HTTP request sent, awaiting response... 200 OK\n",
            "Length: 2875719680 (2.7G) [application/octet-stream]\n",
            "Saving to: ‘/tmp/dir1.tar’\n",
            "\n",
            "/tmp/dir1.tar       100%[===================>]   2.68G  25.5MB/s    in 57s     \n",
            "\n",
            "2021-03-12 18:48:24 (48.1 MB/s) - ‘/tmp/dir1.tar’ saved [2875719680/2875719680]\n",
            "\n"
          ],
          "name": "stdout"
        }
      ]
    },
    {
      "cell_type": "code",
      "metadata": {
        "id": "jiALoue6tLtG",
        "colab": {
          "base_uri": "https://localhost:8080/"
        },
        "outputId": "467a18c5-1f98-474a-febe-ff03e06ba93c"
      },
      "source": [
        "!ls /tmp\n"
      ],
      "execution_count": null,
      "outputs": [
        {
          "output_type": "stream",
          "text": [
            "dap_multiplexer.85f0bc795247.root.log.INFO.20210312-182559.47\n",
            "dap_multiplexer.INFO\n",
            "debugger_1mbf25phh5\n",
            "dir1.tar\n",
            "dir2.tar\n",
            "initgoogle_syslog_dir.0\n"
          ],
          "name": "stdout"
        }
      ]
    },
    {
      "cell_type": "code",
      "metadata": {
        "id": "VxNb0WJcpRO-",
        "colab": {
          "base_uri": "https://localhost:8080/"
        },
        "outputId": "ee77caa1-67fe-4831-b7af-9a14736ed971"
      },
      "source": [
        "!ls mynewfiles"
      ],
      "execution_count": null,
      "outputs": [
        {
          "output_type": "stream",
          "text": [
            "folder1  folder2\n"
          ],
          "name": "stdout"
        }
      ]
    },
    {
      "cell_type": "code",
      "metadata": {
        "id": "HF0a6dq8rDto"
      },
      "source": [
        "!tar xf  /tmp/dir1.tar  -C tempzipfolder"
      ],
      "execution_count": null,
      "outputs": []
    },
    {
      "cell_type": "code",
      "metadata": {
        "id": "qDfW8eVT8ILH"
      },
      "source": [
        "!tar xf  /tmp/dir2.tar -C tempzipfolder"
      ],
      "execution_count": null,
      "outputs": []
    },
    {
      "cell_type": "code",
      "metadata": {
        "id": "IsmBAyPDqqDF",
        "colab": {
          "base_uri": "https://localhost:8080/"
        },
        "outputId": "ca5ebd1f-7704-47c4-a290-aa7c00787ca8"
      },
      "source": [
        "!ls tempzipfolder/"
      ],
      "execution_count": null,
      "outputs": [
        {
          "output_type": "stream",
          "text": [
            "Nanowires  Patterned_surface\n"
          ],
          "name": "stdout"
        }
      ]
    },
    {
      "cell_type": "code",
      "metadata": {
        "id": "X1fJJItjMV4I"
      },
      "source": [
        "SET_NUMBER_OF_CLASSES = 2"
      ],
      "execution_count": null,
      "outputs": []
    },
    {
      "cell_type": "code",
      "metadata": {
        "id": "1rQ41nd9B4oK",
        "colab": {
          "base_uri": "https://localhost:8080/"
        },
        "outputId": "1ecf9582-d7d6-4b10-e98e-8e273c61bb16"
      },
      "source": [
        "!ls"
      ],
      "execution_count": null,
      "outputs": [
        {
          "output_type": "stream",
          "text": [
            "mynewfiles  sample_data  tempzipfolder\n"
          ],
          "name": "stdout"
        }
      ]
    },
    {
      "cell_type": "code",
      "metadata": {
        "id": "Bd3eOJ8MolcW",
        "colab": {
          "base_uri": "https://localhost:8080/"
        },
        "outputId": "b6e7ea24-f606-41b0-aaa4-acd287a71527"
      },
      "source": [
        "!mv tempzipfolder/MEMS_devices_and_electrodes/*.*    mynewfiles/folder1"
      ],
      "execution_count": null,
      "outputs": [
        {
          "output_type": "stream",
          "text": [
            "mv: cannot stat 'tempzipfolder/MEMS_devices_and_electrodes/*.*': No such file or directory\n"
          ],
          "name": "stdout"
        }
      ]
    },
    {
      "cell_type": "code",
      "metadata": {
        "id": "NtXgQmFqFely"
      },
      "source": [
        "!mv tempzipfolder/Nanowires/*.*    mynewfiles/folder2"
      ],
      "execution_count": null,
      "outputs": []
    },
    {
      "cell_type": "code",
      "metadata": {
        "id": "CREVoIN5qvmB",
        "colab": {
          "base_uri": "https://localhost:8080/"
        },
        "outputId": "fe8e1766-2ee0-4ac6-f39f-3364498a4b67"
      },
      "source": [
        "!ls mynewfiles"
      ],
      "execution_count": null,
      "outputs": [
        {
          "output_type": "stream",
          "text": [
            "folder1  folder2\n"
          ],
          "name": "stdout"
        }
      ]
    },
    {
      "cell_type": "code",
      "metadata": {
        "id": "AZfbq_Z-sFzF",
        "colab": {
          "base_uri": "https://localhost:8080/"
        },
        "outputId": "e225b9d6-51a9-4b36-a76c-c5353c871db5"
      },
      "source": [
        "!pwd"
      ],
      "execution_count": null,
      "outputs": [
        {
          "output_type": "stream",
          "text": [
            "/content\n"
          ],
          "name": "stdout"
        }
      ]
    },
    {
      "cell_type": "code",
      "metadata": {
        "id": "DvI2gf64sHbI"
      },
      "source": [
        ""
      ],
      "execution_count": null,
      "outputs": []
    },
    {
      "cell_type": "code",
      "metadata": {
        "id": "oAcVQ6roonmG"
      },
      "source": [
        ""
      ],
      "execution_count": null,
      "outputs": []
    },
    {
      "cell_type": "code",
      "metadata": {
        "id": "A0nFx2kbooax"
      },
      "source": [
        ""
      ],
      "execution_count": null,
      "outputs": []
    },
    {
      "cell_type": "code",
      "metadata": {
        "id": "PdcELrPRsHNa"
      },
      "source": [
        "#!wget https://b2share.eudat.eu/api/files/e3126ced-cb0b-4fde-a081-1aad550cae86/Particles.tar -O /tmp/dir2.tar\n",
        "  \n",
        "#!wget https://b2share.eudat.eu/api/files/87275d32-0908-45bc-89e2-8f3d86029283/Patterned_surface.tar -O /tmp/dir2.tar"
      ],
      "execution_count": null,
      "outputs": []
    },
    {
      "cell_type": "code",
      "metadata": {
        "id": "SceXxNN_tOz5",
        "colab": {
          "base_uri": "https://localhost:8080/"
        },
        "outputId": "ba4924aa-c59b-4e49-f098-4cb8d83e425a"
      },
      "source": [
        "!ls /tmp\n"
      ],
      "execution_count": null,
      "outputs": [
        {
          "output_type": "stream",
          "text": [
            "dap_multiplexer.85f0bc795247.root.log.INFO.20210312-182559.47\n",
            "dap_multiplexer.INFO\n",
            "debugger_1mbf25phh5\n",
            "dir1.tar\n",
            "dir2.tar\n",
            "initgoogle_syslog_dir.0\n"
          ],
          "name": "stdout"
        }
      ]
    },
    {
      "cell_type": "code",
      "metadata": {
        "id": "vTV_g58vtBKg"
      },
      "source": [
        ""
      ],
      "execution_count": null,
      "outputs": []
    },
    {
      "cell_type": "code",
      "metadata": {
        "id": "YhkbEmO5tFwp",
        "colab": {
          "base_uri": "https://localhost:8080/"
        },
        "outputId": "b620ab5d-1474-4505-aa2e-815d0167b7b6"
      },
      "source": [
        "!ls mynewfiles"
      ],
      "execution_count": null,
      "outputs": [
        {
          "output_type": "stream",
          "text": [
            "folder1  folder2\n"
          ],
          "name": "stdout"
        }
      ]
    },
    {
      "cell_type": "code",
      "metadata": {
        "id": "TnSgtevSxiES"
      },
      "source": [
        ""
      ],
      "execution_count": null,
      "outputs": []
    },
    {
      "cell_type": "code",
      "metadata": {
        "id": "5glfwMm_xru8"
      },
      "source": [
        "# Delete a random set of files so that we can experiement fast. delete all files in this folder except keep 150 files\n",
        "# Good idea to play with 100 files. Once we are confident, we can run the same experiment to 1000 files as it save waiting time for us\n",
        "#!find mynewfiles/Biological -type f -print0 | sort -zR | tail -zn +150 | xargs -0 rm\n"
      ],
      "execution_count": null,
      "outputs": []
    },
    {
      "cell_type": "code",
      "metadata": {
        "id": "56G67wDryMz3"
      },
      "source": [
        "#count no of files in a directory folder\n",
        "#!ls mynewfiles/Biological   -1 | wc -l"
      ],
      "execution_count": null,
      "outputs": []
    },
    {
      "cell_type": "code",
      "metadata": {
        "id": "-YD1JXeXlfW6"
      },
      "source": [
        "#!wget https://b2share.eudat.eu/api/files/87275d32-0908-45bc-89e2-8f3d86029283/Tips.tar -O /tmp/dir3.tar"
      ],
      "execution_count": null,
      "outputs": []
    },
    {
      "cell_type": "code",
      "metadata": {
        "id": "tGt32Hdolpr4"
      },
      "source": [
        "#!tar xvf  /tmp/dir3.tar -C mynewfiles"
      ],
      "execution_count": null,
      "outputs": []
    },
    {
      "cell_type": "code",
      "metadata": {
        "id": "QZndEv3IlsX9"
      },
      "source": [
        "#!ls mynewfiles"
      ],
      "execution_count": null,
      "outputs": []
    },
    {
      "cell_type": "code",
      "metadata": {
        "id": "QTOTizo-tXrS"
      },
      "source": [
        ""
      ],
      "execution_count": null,
      "outputs": []
    },
    {
      "cell_type": "markdown",
      "metadata": {
        "id": "j_FdfTTcIQQc"
      },
      "source": [
        "#Goal: Just understand the high level concept \n",
        "###( let's understand the big picture , don't worry about the coding details right now..)"
      ]
    },
    {
      "cell_type": "code",
      "metadata": {
        "id": "OmeK_Ma6zBPJ",
        "colab": {
          "base_uri": "https://localhost:8080/"
        },
        "outputId": "4c1b8bab-652d-4672-e0cd-6af9520d5829"
      },
      "source": [
        "!ls mynewfiles"
      ],
      "execution_count": null,
      "outputs": [
        {
          "output_type": "stream",
          "text": [
            "folder1  folder2\n"
          ],
          "name": "stdout"
        }
      ]
    },
    {
      "cell_type": "code",
      "metadata": {
        "id": "tu1vR36uzPU4",
        "colab": {
          "base_uri": "https://localhost:8080/"
        },
        "outputId": "ba5740cb-2ec5-4d3c-ca3c-2cb558a6a9c6"
      },
      "source": [
        "!pwd"
      ],
      "execution_count": null,
      "outputs": [
        {
          "output_type": "stream",
          "text": [
            "/content\n"
          ],
          "name": "stdout"
        }
      ]
    },
    {
      "cell_type": "code",
      "metadata": {
        "id": "UhtxSACfmZmV",
        "colab": {
          "base_uri": "https://localhost:8080/"
        },
        "outputId": "9b529ea5-8d1b-4bab-fdfe-19072767e8b5"
      },
      "source": [
        "!ls"
      ],
      "execution_count": null,
      "outputs": [
        {
          "output_type": "stream",
          "text": [
            "mynewfiles  sample_data  tempzipfolder\n"
          ],
          "name": "stdout"
        }
      ]
    },
    {
      "cell_type": "code",
      "metadata": {
        "id": "5mUsQLd8zPaW",
        "colab": {
          "base_uri": "https://localhost:8080/"
        },
        "outputId": "97b4c4eb-7666-425f-9178-9bd0ebe18897"
      },
      "source": [
        "import os\n",
        "\n",
        "ListofmyFolders = []\n",
        "\n",
        "\n",
        "for i in range(SET_NUMBER_OF_CLASSES):\n",
        "  ListofmyFolders.append( os.path.join('mynewfiles/folder' + str(i+1))  )\n",
        "  print('total training images:', len(os.listdir(ListofmyFolders[i])))\n",
        "\n"
      ],
      "execution_count": null,
      "outputs": [
        {
          "output_type": "stream",
          "text": [
            "total training images: 0\n",
            "total training images: 3815\n"
          ],
          "name": "stdout"
        }
      ]
    },
    {
      "cell_type": "code",
      "metadata": {
        "id": "dubDXL-PzCvN"
      },
      "source": [
        "\n",
        "\n",
        "\n"
      ],
      "execution_count": null,
      "outputs": []
    },
    {
      "cell_type": "code",
      "metadata": {
        "id": "VlfUXZkOzPhU",
        "colab": {
          "base_uri": "https://localhost:8080/",
          "height": 583
        },
        "outputId": "efd46327-aecd-4f06-e608-26eadb972d52"
      },
      "source": [
        "%matplotlib inline\n",
        "\n",
        "import matplotlib.pyplot as plt\n",
        "import matplotlib.image as mpimg\n",
        "\n",
        "pic_index = 2\n",
        "\n",
        "for i in range(SET_NUMBER_OF_CLASSES):\n",
        "  print('total training images:', len(os.listdir(ListofmyFolders[i])))\n",
        "  rock_files = os.listdir(ListofmyFolders[i])\n",
        "\n",
        "  next_rock = [os.path.join(ListofmyFolders[i], fname) \n",
        "                for fname in rock_files[pic_index-2:pic_index]]\n",
        "  for i, img_path in enumerate(next_rock):\n",
        "    #print(img_path)\n",
        "    img = mpimg.imread(img_path)\n",
        "    print(img_path)\n",
        "    print(img.shape)\n",
        "    plt.imshow(img)\n",
        "    plt.axis('Off')\n",
        "    plt.show()\n"
      ],
      "execution_count": null,
      "outputs": [
        {
          "output_type": "stream",
          "text": [
            "total training images: 0\n",
            "total training images: 3815\n",
            "mynewfiles/folder2/L6_de4a7338d7d525a289f29b9524510f0a.jpg\n",
            "(768, 1024, 3)\n"
          ],
          "name": "stdout"
        },
        {
          "output_type": "display_data",
          "data": {
            "image/png": "[encoded data removed]",
            "text/plain": [
              "<Figure size 432x288 with 1 Axes>"
            ]
          },
          "metadata": {
            "tags": [],
            "needs_background": "light"
          }
        },
        {
          "output_type": "stream",
          "text": [
            "mynewfiles/folder2/L6_d1d8b2b271250a9d0972682e4b332174.jpg\n",
            "(768, 1024, 3)\n"
          ],
          "name": "stdout"
        },
        {
          "output_type": "display_data",
          "data": {
            "image/png": "[encoded data removed]",
            "text/plain": [
              "<Figure size 432x288 with 1 Axes>"
            ]
          },
          "metadata": {
            "tags": [],
            "needs_background": "light"
          }
        }
      ]
    },
    {
      "cell_type": "markdown",
      "metadata": {
        "id": "w3kjvckeAjWR"
      },
      "source": [
        "#**Step 2** Trouble shoot if the system gives error message\n",
        "\n",
        "If you see Out of Memory error, Change the SETBATCHSIZE to lower number such as 32 instead of 128\n",
        "\n",
        "```\n",
        "# SETBATCHSIZE = 128 \n",
        "```\n",
        "\n"
      ]
    },
    {
      "cell_type": "code",
      "metadata": {
        "id": "_jh0bidk0A8S"
      },
      "source": [
        "SIZE = 150"
      ],
      "execution_count": null,
      "outputs": []
    },
    {
      "cell_type": "code",
      "metadata": {
        "id": "1Mdcm8YrUC4F"
      },
      "source": [
        "SETBATCHSIZE=128\n"
      ],
      "execution_count": null,
      "outputs": []
    },
    {
      "cell_type": "code",
      "metadata": {
        "id": "vFVhGmdY0A-5",
        "colab": {
          "base_uri": "https://localhost:8080/"
        },
        "outputId": "eeffff71-ce4a-4279-e5e6-b88b15d0aff1"
      },
      "source": [
        "import tensorflow as tf\n",
        "import keras_preprocessing\n",
        "from keras_preprocessing import image\n",
        "from keras_preprocessing.image import ImageDataGenerator\n",
        "\n",
        "TRAINING_DIR = \"mynewfiles/\"\n",
        "\n",
        "datagen = ImageDataGenerator(validation_split=0.1, rescale=1./255,      rotation_range=0,\n",
        "     width_shift_range=0.2,\n",
        "     height_shift_range=0.2,\n",
        "     shear_range=0.2,\n",
        "     zoom_range=0.2,\n",
        "     horizontal_flip=True,                                                                \n",
        "     fill_mode='nearest')\n",
        "\n",
        "train_generator = datagen.flow_from_directory(\n",
        "    TRAINING_DIR, \n",
        "    subset='training',\n",
        "    target_size=(SIZE,SIZE),\n",
        "         shuffle=True,     batch_size=SETBATCHSIZE,\n",
        "\t  class_mode='categorical'\n",
        ")\n",
        "\n",
        "validation_generator = datagen.flow_from_directory(\n",
        "    TRAINING_DIR,\n",
        "    subset='validation',\n",
        "    \ttarget_size=(SIZE,SIZE),\n",
        "         shuffle=True,     batch_size=SETBATCHSIZE,\n",
        "\tclass_mode='categorical'\n",
        ")\n",
        "\n",
        "\n",
        "\n",
        "\n",
        "test_datagen = ImageDataGenerator( rescale=1./255)\n",
        "\n",
        "\n",
        "test_generator = test_datagen.flow_from_directory(\n",
        "    TRAINING_DIR,\n",
        "    target_size=(SIZE,SIZE),\n",
        "    batch_size=128,\n",
        "    class_mode='categorical',\n",
        "    shuffle=True,\n",
        "    seed=42\n",
        ")"
      ],
      "execution_count": null,
      "outputs": [
        {
          "output_type": "stream",
          "text": [
            "Found 3434 images belonging to 2 classes.\n",
            "Found 381 images belonging to 2 classes.\n",
            "Found 3815 images belonging to 2 classes.\n"
          ],
          "name": "stdout"
        }
      ]
    },
    {
      "cell_type": "code",
      "metadata": {
        "id": "RNuu8i1CEn2x"
      },
      "source": [
        ""
      ],
      "execution_count": null,
      "outputs": []
    },
    {
      "cell_type": "code",
      "metadata": {
        "id": "9pghqN1gEoCB"
      },
      "source": [
        ""
      ],
      "execution_count": null,
      "outputs": []
    },
    {
      "cell_type": "code",
      "metadata": {
        "id": "Ry66DMtyFmN7"
      },
      "source": [
        "from keras.callbacks import EarlyStopping\n",
        "from keras.callbacks import ModelCheckpoint"
      ],
      "execution_count": null,
      "outputs": []
    },
    {
      "cell_type": "code",
      "metadata": {
        "id": "B7T5rpszoDs6",
        "colab": {
          "base_uri": "https://localhost:8080/"
        },
        "outputId": "49b9e0f3-f082-4aee-f942-eaa2723b3ded"
      },
      "source": [
        "from keras.applications import VGG16\n",
        "\n",
        "pre_trained_model = VGG16(weights='imagenet',\n",
        "                  include_top=False,\n",
        "                  input_shape=(SIZE, SIZE, 3))\n",
        "\n"
      ],
      "execution_count": null,
      "outputs": [
        {
          "output_type": "stream",
          "text": [
            "Downloading data from https://storage.googleapis.com/tensorflow/keras-applications/vgg16/vgg16_weights_tf_dim_ordering_tf_kernels_notop.h5\n",
            "58892288/58889256 [==============================] - 2s 0us/step\n"
          ],
          "name": "stdout"
        }
      ]
    },
    {
      "cell_type": "code",
      "metadata": {
        "id": "Cb3znbKKFv3D"
      },
      "source": [
        "for layer in pre_trained_model.layers:\n",
        "  layer.trainable = False"
      ],
      "execution_count": null,
      "outputs": []
    },
    {
      "cell_type": "code",
      "metadata": {
        "id": "bn8w_KRyF4Fk",
        "colab": {
          "base_uri": "https://localhost:8080/"
        },
        "outputId": "07bcf9af-7de7-4da9-e882-2c8b75547c06"
      },
      "source": [
        "#last_layer = pre_trained_model.get_layer('mixed7')\n",
        "\n",
        "last_layer = pre_trained_model.get_layer('block5_conv1')\n",
        "print(last_layer.output_shape)\n",
        "last_output = last_layer.output"
      ],
      "execution_count": null,
      "outputs": [
        {
          "output_type": "stream",
          "text": [
            "(None, 9, 9, 512)\n"
          ],
          "name": "stdout"
        }
      ]
    },
    {
      "cell_type": "code",
      "metadata": {
        "id": "mtZIgkvJojh3"
      },
      "source": [
        ""
      ],
      "execution_count": null,
      "outputs": []
    },
    {
      "cell_type": "code",
      "metadata": {
        "id": "STxDVByWQy6M"
      },
      "source": [
        ""
      ],
      "execution_count": null,
      "outputs": []
    },
    {
      "cell_type": "code",
      "metadata": {
        "id": "JkYK4VW1qArL",
        "colab": {
          "base_uri": "https://localhost:8080/"
        },
        "outputId": "5a0914cb-7b5b-4b5a-db44-3cb394e3195f"
      },
      "source": [
        "ispostmixed = False \n",
        "\n",
        "for layer in pre_trained_model.layers:\n",
        "  if layer.name == \"block5_conv1\":\n",
        "    ispostmixed = True\n",
        "  if ispostmixed == True:\n",
        "    layer.trainable = True\n",
        "    print(layer.name)"
      ],
      "execution_count": null,
      "outputs": [
        {
          "output_type": "stream",
          "text": [
            "block5_conv1\n",
            "block5_conv2\n",
            "block5_conv3\n",
            "block5_pool\n"
          ],
          "name": "stdout"
        }
      ]
    },
    {
      "cell_type": "code",
      "metadata": {
        "id": "hgdIrLDLGMAi"
      },
      "source": [
        "from keras import layers\n",
        "\n",
        "\n",
        "\n"
      ],
      "execution_count": null,
      "outputs": []
    },
    {
      "cell_type": "code",
      "metadata": {
        "id": "2GjMPGXKF4PS"
      },
      "source": [
        "from keras import Model\n",
        "#model = Model(pre_trained_model.input, x)\n",
        "\n",
        "\n",
        "\n"
      ],
      "execution_count": null,
      "outputs": []
    },
    {
      "cell_type": "code",
      "metadata": {
        "id": "7ye0wZHYycXa"
      },
      "source": [
        ""
      ],
      "execution_count": null,
      "outputs": []
    },
    {
      "cell_type": "code",
      "metadata": {
        "id": "CDpeSSlJy5u0"
      },
      "source": [
        ""
      ],
      "execution_count": null,
      "outputs": []
    },
    {
      "cell_type": "code",
      "metadata": {
        "id": "lZl4vrSR4cF-"
      },
      "source": [
        ""
      ],
      "execution_count": null,
      "outputs": []
    },
    {
      "cell_type": "code",
      "metadata": {
        "id": "5zJGne_VFmWl",
        "colab": {
          "base_uri": "https://localhost:8080/"
        },
        "outputId": "5af35214-6e5b-496a-d9ff-53032520269d"
      },
      "source": [
        "# Flatten the output layer to 1 dimension\n",
        "\n",
        "\n",
        "last_layer = pre_trained_model.get_layer('block5_conv3')\n",
        "print(last_layer.output_shape)\n",
        "last_output = last_layer.output\n",
        "\n",
        "\n",
        "x = layers.Conv2D( filters=100,  kernel_size=(3, 3), strides=(1, 1), activation=\"relu\", name='test1') (last_output)\n",
        "#x = layers.Conv2D( filters=30,  kernel_size=(3, 3), strides=(1, 1), activation=\"relu\", name='test2') (x)\n",
        "#x = layers.Conv2D( filters=10,  kernel_size=(3, 3), strides=(1, 1), activation=\"relu\", name='test3') (x)\n",
        "\n",
        "\n",
        "x = layers.Flatten()(x)\n",
        "# Add a fully connected layer with 1,024 hidden units and ReLU activation\n",
        "x = layers.Dense(4000, activation='relu')(x)\n",
        "# Add a dropout rate of 0.2\n",
        "x = layers.Dropout(0.2)(x)\n",
        "x = layers.BatchNormalization() (x)\n",
        "\n",
        "x = layers.Dense(2, activation='softmax')(x)"
      ],
      "execution_count": null,
      "outputs": [
        {
          "output_type": "stream",
          "text": [
            "(None, 9, 9, 512)\n"
          ],
          "name": "stdout"
        }
      ]
    },
    {
      "cell_type": "code",
      "metadata": {
        "id": "YJ5Cfs9r2ZL6"
      },
      "source": [
        "if False:\n",
        "  last_layer = pre_trained_model.get_layer('block5_conv1')\n",
        "  print(last_layer.output_shape)\n",
        "  last_output = last_layer.output\n",
        "\n",
        "  ispostmixed = False \n",
        "\n",
        "  for layer in pre_trained_model.layers:\n",
        "    if layer.name == \"block5_conv1\":\n",
        "      ispostmixed = True\n",
        "    if ispostmixed == True:\n",
        "      layer.trainable = True\n",
        "      print(layer.name)\n",
        "\n",
        "  from keras import layers\n",
        "\n",
        "  # Flatten the output layer to 1 dimension\n",
        "  x = layers.Flatten()(last_output)\n",
        "  x = layers.BatchNormalization() (x)\n",
        "  # Add a fully connected layer with 1,024 hidden units and ReLU activation\n",
        "  x = layers.Dense(5000, activation='relu')(x)\n",
        "  # Add a dropout rate of 0.2\n",
        "  x = layers.Dropout(0.2)(x)\n",
        "  x = layers.BatchNormalization() (x)\n",
        "  x = layers.Dense(512, activation='relu')(x)\n",
        "  x = layers.Dropout(0.2)(x)\n",
        "  x = layers.BatchNormalization() (x)\n",
        "  x = layers.Dense(2, activation='softmax')(x)"
      ],
      "execution_count": null,
      "outputs": []
    },
    {
      "cell_type": "code",
      "metadata": {
        "id": "33THwdwH0IQ_"
      },
      "source": [
        "from keras import Model\n",
        "model = Model(pre_trained_model.input, x)"
      ],
      "execution_count": null,
      "outputs": []
    },
    {
      "cell_type": "code",
      "metadata": {
        "id": "pXLtqI8w0LRG",
        "colab": {
          "base_uri": "https://localhost:8080/"
        },
        "outputId": "a2f8f5b3-ee8c-4c54-ed64-24a1065bea41"
      },
      "source": [
        "model.summary()\n",
        "\n"
      ],
      "execution_count": null,
      "outputs": [
        {
          "output_type": "stream",
          "text": [
            "Model: \"model\"\n",
            "_________________________________________________________________\n",
            "Layer (type)                 Output Shape              Param #   \n",
            "=================================================================\n",
            "input_1 (InputLayer)         [(None, 150, 150, 3)]     0         \n",
            "_________________________________________________________________\n",
            "block1_conv1 (Conv2D)        (None, 150, 150, 64)      1792      \n",
            "_________________________________________________________________\n",
            "block1_conv2 (Conv2D)        (None, 150, 150, 64)      36928     \n",
            "_________________________________________________________________\n",
            "block1_pool (MaxPooling2D)   (None, 75, 75, 64)        0         \n",
            "_________________________________________________________________\n",
            "block2_conv1 (Conv2D)        (None, 75, 75, 128)       73856     \n",
            "_________________________________________________________________\n",
            "block2_conv2 (Conv2D)        (None, 75, 75, 128)       147584    \n",
            "_________________________________________________________________\n",
            "block2_pool (MaxPooling2D)   (None, 37, 37, 128)       0         \n",
            "_________________________________________________________________\n",
            "block3_conv1 (Conv2D)        (None, 37, 37, 256)       295168    \n",
            "_________________________________________________________________\n",
            "block3_conv2 (Conv2D)        (None, 37, 37, 256)       590080    \n",
            "_________________________________________________________________\n",
            "block3_conv3 (Conv2D)        (None, 37, 37, 256)       590080    \n",
            "_________________________________________________________________\n",
            "block3_pool (MaxPooling2D)   (None, 18, 18, 256)       0         \n",
            "_________________________________________________________________\n",
            "block4_conv1 (Conv2D)        (None, 18, 18, 512)       1180160   \n",
            "_________________________________________________________________\n",
            "block4_conv2 (Conv2D)        (None, 18, 18, 512)       2359808   \n",
            "_________________________________________________________________\n",
            "block4_conv3 (Conv2D)        (None, 18, 18, 512)       2359808   \n",
            "_________________________________________________________________\n",
            "block4_pool (MaxPooling2D)   (None, 9, 9, 512)         0         \n",
            "_________________________________________________________________\n",
            "block5_conv1 (Conv2D)        (None, 9, 9, 512)         2359808   \n",
            "_________________________________________________________________\n",
            "block5_conv2 (Conv2D)        (None, 9, 9, 512)         2359808   \n",
            "_________________________________________________________________\n",
            "block5_conv3 (Conv2D)        (None, 9, 9, 512)         2359808   \n",
            "_________________________________________________________________\n",
            "test1 (Conv2D)               (None, 7, 7, 100)         460900    \n",
            "_________________________________________________________________\n",
            "flatten (Flatten)            (None, 4900)              0         \n",
            "_________________________________________________________________\n",
            "dense (Dense)                (None, 4000)              19604000  \n",
            "_________________________________________________________________\n",
            "dropout (Dropout)            (None, 4000)              0         \n",
            "_________________________________________________________________\n",
            "batch_normalization (BatchNo (None, 4000)              16000     \n",
            "_________________________________________________________________\n",
            "dense_1 (Dense)              (None, 2)                 8002      \n",
            "=================================================================\n",
            "Total params: 34,803,590\n",
            "Trainable params: 27,160,326\n",
            "Non-trainable params: 7,643,264\n",
            "_________________________________________________________________\n"
          ],
          "name": "stdout"
        }
      ]
    },
    {
      "cell_type": "code",
      "metadata": {
        "id": "0yMv-055OJZQ",
        "colab": {
          "base_uri": "https://localhost:8080/"
        },
        "outputId": "772414c4-717f-4035-e96d-92a24c8ffa2f"
      },
      "source": [
        "count = 1\n",
        "for alayer in model.layers:\n",
        "  print( str(count) + '    \\t \\t \\t ' + str(alayer.name) + '    \\t \\t \\t ' +  str(alayer.trainable) )\n",
        "  count = count + 1 "
      ],
      "execution_count": null,
      "outputs": [
        {
          "output_type": "stream",
          "text": [
            "1    \t \t \t input_1    \t \t \t False\n",
            "2    \t \t \t block1_conv1    \t \t \t False\n",
            "3    \t \t \t block1_conv2    \t \t \t False\n",
            "4    \t \t \t block1_pool    \t \t \t False\n",
            "5    \t \t \t block2_conv1    \t \t \t False\n",
            "6    \t \t \t block2_conv2    \t \t \t False\n",
            "7    \t \t \t block2_pool    \t \t \t False\n",
            "8    \t \t \t block3_conv1    \t \t \t False\n",
            "9    \t \t \t block3_conv2    \t \t \t False\n",
            "10    \t \t \t block3_conv3    \t \t \t False\n",
            "11    \t \t \t block3_pool    \t \t \t False\n",
            "12    \t \t \t block4_conv1    \t \t \t False\n",
            "13    \t \t \t block4_conv2    \t \t \t False\n",
            "14    \t \t \t block4_conv3    \t \t \t False\n",
            "15    \t \t \t block4_pool    \t \t \t False\n",
            "16    \t \t \t block5_conv1    \t \t \t True\n",
            "17    \t \t \t block5_conv2    \t \t \t True\n",
            "18    \t \t \t block5_conv3    \t \t \t True\n",
            "19    \t \t \t test1    \t \t \t True\n",
            "20    \t \t \t flatten    \t \t \t True\n",
            "21    \t \t \t dense    \t \t \t True\n",
            "22    \t \t \t dropout    \t \t \t True\n",
            "23    \t \t \t batch_normalization    \t \t \t True\n",
            "24    \t \t \t dense_1    \t \t \t True\n"
          ],
          "name": "stdout"
        }
      ]
    },
    {
      "cell_type": "code",
      "metadata": {
        "id": "mQ-HEhFLl77s"
      },
      "source": [
        ""
      ],
      "execution_count": null,
      "outputs": []
    },
    {
      "cell_type": "code",
      "metadata": {
        "id": "2ZkHjBkOG69p"
      },
      "source": [
        ""
      ],
      "execution_count": null,
      "outputs": []
    },
    {
      "cell_type": "code",
      "metadata": {
        "id": "s-srN__X2BX3"
      },
      "source": [
        ""
      ],
      "execution_count": null,
      "outputs": []
    },
    {
      "cell_type": "code",
      "metadata": {
        "id": "ZUtbinW1iyY2",
        "colab": {
          "base_uri": "https://localhost:8080/"
        },
        "outputId": "b68dcf8f-9a01-4d6b-aff7-f52fe3e15441"
      },
      "source": [
        "STEP_SIZE_TRAIN=train_generator.n//train_generator.batch_size\n",
        "STEP_SIZE_VALID=validation_generator.n//validation_generator.batch_size\n",
        "\n",
        "print('No of training images   = ' + str(train_generator.n))\n",
        "print('No of validation images = ' + str(validation_generator.n))\n",
        "print('No of folders           = ' + str(train_generator.num_classes))"
      ],
      "execution_count": null,
      "outputs": [
        {
          "output_type": "stream",
          "text": [
            "No of training images   = 3434\n",
            "No of validation images = 381\n",
            "No of folders           = 2\n"
          ],
          "name": "stdout"
        }
      ]
    },
    {
      "cell_type": "code",
      "metadata": {
        "id": "-UAczmqN2W3F"
      },
      "source": [
        "#train_generator.num_classes"
      ],
      "execution_count": null,
      "outputs": []
    },
    {
      "cell_type": "code",
      "metadata": {
        "id": "f83sdQnJ32UE"
      },
      "source": [
        "if STEP_SIZE_VALID == 0:\n",
        "  STEP_SIZE_VALID = 1"
      ],
      "execution_count": null,
      "outputs": []
    },
    {
      "cell_type": "code",
      "metadata": {
        "id": "LkKAYaZcY-LM"
      },
      "source": [
        "#STEPSPEREPOCH = 7600 // 128\n",
        "#STEPSPEREPOCH"
      ],
      "execution_count": null,
      "outputs": []
    },
    {
      "cell_type": "code",
      "metadata": {
        "id": "OD_ZZnUKAKAR",
        "colab": {
          "base_uri": "https://localhost:8080/"
        },
        "outputId": "b7f61041-c588-4463-b225-15742c5843fb"
      },
      "source": [
        "# Flatten the output layer to 1 dimension\n",
        "\n",
        "\n",
        "last_layer = pre_trained_model.get_layer('block5_conv3')\n",
        "print(last_layer.output_shape)\n",
        "last_output = last_layer.output\n",
        "\n",
        "\n",
        "x = layers.Conv2D( filters=100,  kernel_size=(3, 3), strides=(1, 1), activation=\"relu\", name='test1') (last_output)\n",
        "x = layers.Conv2D( filters=30,  kernel_size=(3, 3), strides=(1, 1), activation=\"relu\", name='test2') (x)\n",
        "x = layers.Conv2D( filters=10,  kernel_size=(3, 3), strides=(1, 1), activation=\"relu\", name='test3') (x)\n",
        "\n",
        "\n",
        "x = layers.Flatten()(x)\n",
        "# Add a fully connected layer with 1,024 hidden units and ReLU activation\n",
        "x = layers.Dense(128, activation='relu')(x)\n",
        "# Add a dropout rate of 0.2\n",
        "x = layers.Dropout(0.2)(x)\n",
        "x = layers.BatchNormalization() (x)\n",
        "\n",
        "x = layers.Dense(2, activation='softmax')(x)\n",
        "\n",
        "model = Model(pre_trained_model.input, x)"
      ],
      "execution_count": null,
      "outputs": [
        {
          "output_type": "stream",
          "text": [
            "(None, 9, 9, 512)\n"
          ],
          "name": "stdout"
        }
      ]
    },
    {
      "cell_type": "code",
      "metadata": {
        "id": "bVS1eCYFAj8W",
        "colab": {
          "base_uri": "https://localhost:8080/"
        },
        "outputId": "323d6c3e-ff10-44b9-9df6-2ce625943d24"
      },
      "source": [
        "model.summary()"
      ],
      "execution_count": null,
      "outputs": [
        {
          "output_type": "stream",
          "text": [
            "Model: \"model_1\"\n",
            "_________________________________________________________________\n",
            "Layer (type)                 Output Shape              Param #   \n",
            "=================================================================\n",
            "input_1 (InputLayer)         [(None, 150, 150, 3)]     0         \n",
            "_________________________________________________________________\n",
            "block1_conv1 (Conv2D)        (None, 150, 150, 64)      1792      \n",
            "_________________________________________________________________\n",
            "block1_conv2 (Conv2D)        (None, 150, 150, 64)      36928     \n",
            "_________________________________________________________________\n",
            "block1_pool (MaxPooling2D)   (None, 75, 75, 64)        0         \n",
            "_________________________________________________________________\n",
            "block2_conv1 (Conv2D)        (None, 75, 75, 128)       73856     \n",
            "_________________________________________________________________\n",
            "block2_conv2 (Conv2D)        (None, 75, 75, 128)       147584    \n",
            "_________________________________________________________________\n",
            "block2_pool (MaxPooling2D)   (None, 37, 37, 128)       0         \n",
            "_________________________________________________________________\n",
            "block3_conv1 (Conv2D)        (None, 37, 37, 256)       295168    \n",
            "_________________________________________________________________\n",
            "block3_conv2 (Conv2D)        (None, 37, 37, 256)       590080    \n",
            "_________________________________________________________________\n",
            "block3_conv3 (Conv2D)        (None, 37, 37, 256)       590080    \n",
            "_________________________________________________________________\n",
            "block3_pool (MaxPooling2D)   (None, 18, 18, 256)       0         \n",
            "_________________________________________________________________\n",
            "block4_conv1 (Conv2D)        (None, 18, 18, 512)       1180160   \n",
            "_________________________________________________________________\n",
            "block4_conv2 (Conv2D)        (None, 18, 18, 512)       2359808   \n",
            "_________________________________________________________________\n",
            "block4_conv3 (Conv2D)        (None, 18, 18, 512)       2359808   \n",
            "_________________________________________________________________\n",
            "block4_pool (MaxPooling2D)   (None, 9, 9, 512)         0         \n",
            "_________________________________________________________________\n",
            "block5_conv1 (Conv2D)        (None, 9, 9, 512)         2359808   \n",
            "_________________________________________________________________\n",
            "block5_conv2 (Conv2D)        (None, 9, 9, 512)         2359808   \n",
            "_________________________________________________________________\n",
            "block5_conv3 (Conv2D)        (None, 9, 9, 512)         2359808   \n",
            "_________________________________________________________________\n",
            "test1 (Conv2D)               (None, 7, 7, 100)         460900    \n",
            "_________________________________________________________________\n",
            "test2 (Conv2D)               (None, 5, 5, 30)          27030     \n",
            "_________________________________________________________________\n",
            "test3 (Conv2D)               (None, 3, 3, 10)          2710      \n",
            "_________________________________________________________________\n",
            "flatten_1 (Flatten)          (None, 90)                0         \n",
            "_________________________________________________________________\n",
            "dense_2 (Dense)              (None, 128)               11648     \n",
            "_________________________________________________________________\n",
            "dropout_1 (Dropout)          (None, 128)               0         \n",
            "_________________________________________________________________\n",
            "batch_normalization_1 (Batch (None, 128)               512       \n",
            "_________________________________________________________________\n",
            "dense_3 (Dense)              (None, 2)                 258       \n",
            "=================================================================\n",
            "Total params: 15,217,746\n",
            "Trainable params: 7,582,226\n",
            "Non-trainable params: 7,635,520\n",
            "_________________________________________________________________\n"
          ],
          "name": "stdout"
        }
      ]
    },
    {
      "cell_type": "code",
      "metadata": {
        "id": "d6KckPPnAlPt",
        "colab": {
          "base_uri": "https://localhost:8080/"
        },
        "outputId": "02a1c725-45f7-458d-e783-8d131f06298a"
      },
      "source": [
        "count = 1\n",
        "for alayer in model.layers:\n",
        "  print( str(count) + '    \\t \\t \\t ' + str(alayer.name) + '    \\t \\t \\t ' +  str(alayer.trainable) )\n",
        "  count = count + 1 "
      ],
      "execution_count": null,
      "outputs": [
        {
          "output_type": "stream",
          "text": [
            "1    \t \t \t input_1    \t \t \t False\n",
            "2    \t \t \t block1_conv1    \t \t \t False\n",
            "3    \t \t \t block1_conv2    \t \t \t False\n",
            "4    \t \t \t block1_pool    \t \t \t False\n",
            "5    \t \t \t block2_conv1    \t \t \t False\n",
            "6    \t \t \t block2_conv2    \t \t \t False\n",
            "7    \t \t \t block2_pool    \t \t \t False\n",
            "8    \t \t \t block3_conv1    \t \t \t False\n",
            "9    \t \t \t block3_conv2    \t \t \t False\n",
            "10    \t \t \t block3_conv3    \t \t \t False\n",
            "11    \t \t \t block3_pool    \t \t \t False\n",
            "12    \t \t \t block4_conv1    \t \t \t False\n",
            "13    \t \t \t block4_conv2    \t \t \t False\n",
            "14    \t \t \t block4_conv3    \t \t \t False\n",
            "15    \t \t \t block4_pool    \t \t \t False\n",
            "16    \t \t \t block5_conv1    \t \t \t True\n",
            "17    \t \t \t block5_conv2    \t \t \t True\n",
            "18    \t \t \t block5_conv3    \t \t \t True\n",
            "19    \t \t \t test1    \t \t \t True\n",
            "20    \t \t \t test2    \t \t \t True\n",
            "21    \t \t \t test3    \t \t \t True\n",
            "22    \t \t \t flatten_1    \t \t \t True\n",
            "23    \t \t \t dense_2    \t \t \t True\n",
            "24    \t \t \t dropout_1    \t \t \t True\n",
            "25    \t \t \t batch_normalization_1    \t \t \t True\n",
            "26    \t \t \t dense_3    \t \t \t True\n"
          ],
          "name": "stdout"
        }
      ]
    },
    {
      "cell_type": "code",
      "metadata": {
        "id": "Zq9M1Mf4Baxh",
        "colab": {
          "base_uri": "https://localhost:8080/",
          "height": 1000
        },
        "outputId": "1879b017-6b10-4123-8f64-3b3f0135f6b0"
      },
      "source": [
        "from keras.utils import plot_model\n",
        "plot_model(model, to_file='model.png')"
      ],
      "execution_count": null,
      "outputs": [
        {
          "output_type": "execute_result",
          "data": {
            "image/png": "[encoded data removed]",
            "text/plain": [
              "<IPython.core.display.Image object>"
            ]
          },
          "metadata": {
            "tags": []
          },
          "execution_count": 52
        }
      ]
    },
    {
      "cell_type": "code",
      "metadata": {
        "id": "EGqlKj7r3588"
      },
      "source": [
        "earlystopcallingback = EarlyStopping(monitor='val_loss', mode='min', verbose=1, patience=1)"
      ],
      "execution_count": null,
      "outputs": []
    },
    {
      "cell_type": "code",
      "metadata": {
        "id": "oG-3_3k-seXX"
      },
      "source": [
        "bestmodelcheckpoint = ModelCheckpoint('best_model.h5', monitor='val_acc', mode='max', verbose=1, save_best_only=True)\n"
      ],
      "execution_count": null,
      "outputs": []
    },
    {
      "cell_type": "code",
      "metadata": {
        "id": "kX6bxAlm0LTm",
        "colab": {
          "base_uri": "https://localhost:8080/"
        },
        "outputId": "6b0185f4-31a8-4216-fea9-b4126ce05831"
      },
      "source": [
        "model.compile(loss = 'categorical_crossentropy', optimizer='rmsprop', metrics=['accuracy'])\n",
        "\n",
        "history = model.fit_generator(train_generator, epochs=4, validation_data = validation_generator , verbose = 1, steps_per_epoch=STEP_SIZE_TRAIN, validation_steps=STEP_SIZE_VALID,\n",
        "                              callbacks=[earlystopcallingback, bestmodelcheckpoint]\n",
        "                              )\n",
        "\n",
        "#model.save(\"rps.h5\")"
      ],
      "execution_count": null,
      "outputs": [
        {
          "output_type": "stream",
          "text": [
            "/usr/local/lib/python3.7/dist-packages/tensorflow/python/keras/engine/training.py:1844: UserWarning: `Model.fit_generator` is deprecated and will be removed in a future version. Please use `Model.fit`, which supports generators.\n",
            "  warnings.warn('`Model.fit_generator` is deprecated and '\n"
          ],
          "name": "stderr"
        },
        {
          "output_type": "stream",
          "text": [
            "Epoch 1/4\n",
            "26/26 [==============================] - 147s 4s/step - loss: 0.7396 - accuracy: 0.6663 - val_loss: 0.2538 - val_accuracy: 0.9961\n",
            "WARNING:tensorflow:Can save best model only with val_acc available, skipping.\n",
            "Epoch 2/4\n",
            "26/26 [==============================] - 86s 3s/step - loss: 0.3875 - accuracy: 0.9554 - val_loss: 0.2192 - val_accuracy: 0.9961\n",
            "WARNING:tensorflow:Can save best model only with val_acc available, skipping.\n",
            "Epoch 3/4\n",
            "26/26 [==============================] - 85s 3s/step - loss: 0.2264 - accuracy: 0.9746 - val_loss: 0.4170 - val_accuracy: 0.8242\n",
            "WARNING:tensorflow:Can save best model only with val_acc available, skipping.\n",
            "Epoch 00003: early stopping\n"
          ],
          "name": "stdout"
        }
      ]
    },
    {
      "cell_type": "code",
      "metadata": {
        "id": "4c9v11xB0LWS",
        "colab": {
          "base_uri": "https://localhost:8080/",
          "height": 235
        },
        "outputId": "da457735-e859-4bc4-9cb0-0b5e9b9ae168"
      },
      "source": [
        "import matplotlib.pyplot as plt\n",
        "acc = history.history['acc']\n",
        "val_acc = history.history['val_acc']\n",
        "loss = history.history['loss']\n",
        "val_loss = history.history['val_loss']\n",
        "\n",
        "epochs = range(len(acc))\n",
        "\n",
        "plt.plot(epochs, acc, 'r', label='Training accuracy')\n",
        "plt.plot(epochs, val_acc, 'b', label='Validation accuracy')\n",
        "plt.title('Training and validation accuracy')\n",
        "plt.legend(loc=0)\n",
        "plt.figure()\n",
        "\n",
        "\n",
        "plt.show()"
      ],
      "execution_count": null,
      "outputs": [
        {
          "output_type": "error",
          "ename": "KeyError",
          "evalue": "ignored",
          "traceback": [
            "\u001b[0;31m---------------------------------------------------------------------------\u001b[0m",
            "\u001b[0;31mKeyError\u001b[0m                                  Traceback (most recent call last)",
            "\u001b[0;32m<ipython-input-56-8bc21a7567ce>\u001b[0m in \u001b[0;36m<module>\u001b[0;34m()\u001b[0m\n\u001b[1;32m      1\u001b[0m \u001b[0;32mimport\u001b[0m \u001b[0mmatplotlib\u001b[0m\u001b[0;34m.\u001b[0m\u001b[0mpyplot\u001b[0m \u001b[0;32mas\u001b[0m \u001b[0mplt\u001b[0m\u001b[0;34m\u001b[0m\u001b[0;34m\u001b[0m\u001b[0m\n\u001b[0;32m----> 2\u001b[0;31m \u001b[0macc\u001b[0m \u001b[0;34m=\u001b[0m \u001b[0mhistory\u001b[0m\u001b[0;34m.\u001b[0m\u001b[0mhistory\u001b[0m\u001b[0;34m[\u001b[0m\u001b[0;34m'acc'\u001b[0m\u001b[0;34m]\u001b[0m\u001b[0;34m\u001b[0m\u001b[0;34m\u001b[0m\u001b[0m\n\u001b[0m\u001b[1;32m      3\u001b[0m \u001b[0mval_acc\u001b[0m \u001b[0;34m=\u001b[0m \u001b[0mhistory\u001b[0m\u001b[0;34m.\u001b[0m\u001b[0mhistory\u001b[0m\u001b[0;34m[\u001b[0m\u001b[0;34m'val_acc'\u001b[0m\u001b[0;34m]\u001b[0m\u001b[0;34m\u001b[0m\u001b[0;34m\u001b[0m\u001b[0m\n\u001b[1;32m      4\u001b[0m \u001b[0mloss\u001b[0m \u001b[0;34m=\u001b[0m \u001b[0mhistory\u001b[0m\u001b[0;34m.\u001b[0m\u001b[0mhistory\u001b[0m\u001b[0;34m[\u001b[0m\u001b[0;34m'loss'\u001b[0m\u001b[0;34m]\u001b[0m\u001b[0;34m\u001b[0m\u001b[0;34m\u001b[0m\u001b[0m\n\u001b[1;32m      5\u001b[0m \u001b[0mval_loss\u001b[0m \u001b[0;34m=\u001b[0m \u001b[0mhistory\u001b[0m\u001b[0;34m.\u001b[0m\u001b[0mhistory\u001b[0m\u001b[0;34m[\u001b[0m\u001b[0;34m'val_loss'\u001b[0m\u001b[0;34m]\u001b[0m\u001b[0;34m\u001b[0m\u001b[0;34m\u001b[0m\u001b[0m\n",
            "\u001b[0;31mKeyError\u001b[0m: 'acc'"
          ]
        }
      ]
    },
    {
      "cell_type": "code",
      "metadata": {
        "id": "VHAKbgqW8qsR"
      },
      "source": [
        ""
      ],
      "execution_count": null,
      "outputs": []
    },
    {
      "cell_type": "code",
      "metadata": {
        "id": "2TPKx4sS8GAU"
      },
      "source": [
        ""
      ],
      "execution_count": null,
      "outputs": []
    },
    {
      "cell_type": "code",
      "metadata": {
        "id": "aWv4vbVn8Nf-"
      },
      "source": [
        ""
      ],
      "execution_count": null,
      "outputs": []
    },
    {
      "cell_type": "code",
      "metadata": {
        "id": "RC0cNMxx8PBG"
      },
      "source": [
        ""
      ],
      "execution_count": null,
      "outputs": []
    },
    {
      "cell_type": "code",
      "metadata": {
        "id": "Vr_Pn-CU1R06"
      },
      "source": [
        ""
      ],
      "execution_count": null,
      "outputs": []
    },
    {
      "cell_type": "code",
      "metadata": {
        "id": "yD3a37eTNJvu"
      },
      "source": [
        ""
      ],
      "execution_count": null,
      "outputs": []
    },
    {
      "cell_type": "code",
      "metadata": {
        "id": "nmWSyZLi1laS"
      },
      "source": [
        ""
      ],
      "execution_count": null,
      "outputs": []
    },
    {
      "cell_type": "code",
      "metadata": {
        "id": "z77x23D31h0f"
      },
      "source": [
        ""
      ],
      "execution_count": null,
      "outputs": []
    },
    {
      "cell_type": "code",
      "metadata": {
        "id": "o_XXhHJ02HCI"
      },
      "source": [
        ""
      ],
      "execution_count": null,
      "outputs": []
    },
    {
      "cell_type": "code",
      "metadata": {
        "id": "KlVPMm_PM7ER"
      },
      "source": [
        ""
      ],
      "execution_count": null,
      "outputs": []
    },
    {
      "cell_type": "code",
      "metadata": {
        "id": "hMlXdmNH1m5X"
      },
      "source": [
        ""
      ],
      "execution_count": null,
      "outputs": []
    },
    {
      "cell_type": "code",
      "metadata": {
        "id": "kAX-9T0d1ozP"
      },
      "source": [
        ""
      ],
      "execution_count": null,
      "outputs": []
    },
    {
      "cell_type": "code",
      "metadata": {
        "id": "5d3Hy73a1pB5"
      },
      "source": [
        ""
      ],
      "execution_count": null,
      "outputs": []
    },
    {
      "cell_type": "code",
      "metadata": {
        "id": "lfpXUPvu2JOr"
      },
      "source": [
        ""
      ],
      "execution_count": null,
      "outputs": []
    },
    {
      "cell_type": "code",
      "metadata": {
        "id": "5DTnsdlHD28d"
      },
      "source": [
        ""
      ],
      "execution_count": null,
      "outputs": []
    },
    {
      "cell_type": "code",
      "metadata": {
        "id": "jFajcDFeD7yq"
      },
      "source": [
        ""
      ],
      "execution_count": null,
      "outputs": []
    },
    {
      "cell_type": "code",
      "metadata": {
        "id": "GF1TY3BnD9Cp"
      },
      "source": [
        ""
      ],
      "execution_count": null,
      "outputs": []
    },
    {
      "cell_type": "code",
      "metadata": {
        "id": "VppHkmqxSkMh"
      },
      "source": [
        ""
      ],
      "execution_count": null,
      "outputs": []
    },
    {
      "cell_type": "code",
      "metadata": {
        "id": "l_PZAG3FSpB2"
      },
      "source": [
        ""
      ],
      "execution_count": null,
      "outputs": []
    },
    {
      "cell_type": "code",
      "metadata": {
        "id": "3BNWVxJHEAHz"
      },
      "source": [
        ""
      ],
      "execution_count": null,
      "outputs": []
    },
    {
      "cell_type": "code",
      "metadata": {
        "id": "bljSkkTAcxov"
      },
      "source": [
        ""
      ],
      "execution_count": null,
      "outputs": []
    },
    {
      "cell_type": "code",
      "metadata": {
        "id": "2k6zIXpCNKlu"
      },
      "source": [
        ""
      ],
      "execution_count": null,
      "outputs": []
    },
    {
      "cell_type": "code",
      "metadata": {
        "id": "WXVZGjyaNR-M"
      },
      "source": [
        ""
      ],
      "execution_count": null,
      "outputs": []
    },
    {
      "cell_type": "code",
      "metadata": {
        "id": "b_0wpvlDmbwV"
      },
      "source": [
        ""
      ],
      "execution_count": null,
      "outputs": []
    },
    {
      "cell_type": "code",
      "metadata": {
        "id": "JcxXymKoNa23"
      },
      "source": [
        ""
      ],
      "execution_count": null,
      "outputs": []
    },
    {
      "cell_type": "code",
      "metadata": {
        "id": "4XQZl-iNNcW7"
      },
      "source": [
        ""
      ],
      "execution_count": null,
      "outputs": []
    },
    {
      "cell_type": "code",
      "metadata": {
        "id": "02mcMgb0iwra"
      },
      "source": [
        ""
      ],
      "execution_count": null,
      "outputs": []
    },
    {
      "cell_type": "code",
      "metadata": {
        "id": "jfesK86K9vx_"
      },
      "source": [
        "for layer in model.layers:\n",
        "  layer.trainable = True"
      ],
      "execution_count": null,
      "outputs": []
    },
    {
      "cell_type": "code",
      "metadata": {
        "id": "t3YL0cRjiyWp"
      },
      "source": [
        "count = 1\n",
        "for alayer in model.layers:\n",
        "  print( str(count) + '    \\t \\t \\t ' + str(alayer.name) + '    \\t \\t \\t ' +  str(alayer.trainable) )\n",
        "  count = count + 1 "
      ],
      "execution_count": null,
      "outputs": []
    },
    {
      "cell_type": "code",
      "metadata": {
        "id": "QLhK3ywx3vuZ"
      },
      "source": [
        "earlystopcallingback = EarlyStopping(monitor='val_loss', mode='min', verbose=1, patience=1)\n",
        "\n",
        "bestmodelcheckpoint = ModelCheckpoint('best_model_final.h5', monitor='val_acc', mode='max', verbose=1, save_best_only=True)"
      ],
      "execution_count": null,
      "outputs": []
    },
    {
      "cell_type": "code",
      "metadata": {
        "id": "8RQO1uQxq-Kp"
      },
      "source": [
        "#model.compile(loss = 'categorical_crossentropy', optimizer='rmsprop', metrics=['accuracy'])\n",
        "\n",
        "history1 = model.fit_generator(train_generator, epochs=3, validation_data = validation_generator , verbose = 1, steps_per_epoch=STEP_SIZE_TRAIN, validation_steps=STEP_SIZE_VALID,\n",
        "                              callbacks=[earlystopcallingback, bestmodelcheckpoint]\n",
        "                              )\n",
        "\n",
        "#model.save(\"rps.h5\")"
      ],
      "execution_count": null,
      "outputs": []
    },
    {
      "cell_type": "code",
      "metadata": {
        "id": "6B-vYNWf3aZm"
      },
      "source": [
        "import matplotlib.pyplot as plt\n",
        "acc1 = history1.history['acc']\n",
        "val_acc1 = history1.history['val_acc']\n",
        "loss1 = history1.history['loss']\n",
        "val_loss1 = history1.history['val_loss']\n",
        "\n",
        "accTotal = acc + acc1\n",
        "val_accTotal = val_acc + val_acc1\n",
        "\n",
        "epochs = range(len(acc))\n",
        "\n",
        "plt.plot( accTotal, 'r', label='Training accuracy')\n",
        "plt.plot( val_accTotal, 'b', label='Validation accuracy')\n",
        "plt.title('Training and validation accuracy')\n",
        "plt.legend(loc=0)\n",
        "plt.figure()\n",
        "\n",
        "\n",
        "plt.show()"
      ],
      "execution_count": null,
      "outputs": []
    },
    {
      "cell_type": "code",
      "metadata": {
        "id": "iypEyWlvizIE"
      },
      "source": [
        "import math\n",
        "\n",
        "\n",
        "print(  'epoch   Val Accuacy           ,      Train Accuracy'  )\n",
        "for i in range(len( val_accTotal )):\n",
        "  print( str(i) + '  ,      ' + str( round( 100* float( val_accTotal[i] ) , 2 ))  +    '              ,         ' + str( round( 100* float( accTotal[i] ) , 2 )) )"
      ],
      "execution_count": null,
      "outputs": []
    },
    {
      "cell_type": "code",
      "metadata": {
        "id": "MGj8PIn9rFDU"
      },
      "source": [
        "\n"
      ],
      "execution_count": null,
      "outputs": []
    },
    {
      "cell_type": "code",
      "metadata": {
        "id": "zWGB92zaJZWn"
      },
      "source": [
        ""
      ],
      "execution_count": null,
      "outputs": []
    },
    {
      "cell_type": "markdown",
      "metadata": {
        "id": "WqEqnpA-srN0"
      },
      "source": [
        "#**Step 3:** Best trained neural network model is saved here.  Note it will large file, so upload it to Google Drive by mounting it..  "
      ]
    },
    {
      "cell_type": "code",
      "metadata": {
        "id": "MIIpbrlRrDij"
      },
      "source": [
        "!ls"
      ],
      "execution_count": null,
      "outputs": []
    },
    {
      "cell_type": "code",
      "metadata": {
        "id": "VCsPkTckJ6cC"
      },
      "source": [
        "from google.colab import files\n"
      ],
      "execution_count": null,
      "outputs": []
    },
    {
      "cell_type": "code",
      "metadata": {
        "id": "bd9fMcQjJzhD"
      },
      "source": [
        "#files.download(\"best_model_final.h5\")\n"
      ],
      "execution_count": null,
      "outputs": []
    },
    {
      "cell_type": "code",
      "metadata": {
        "id": "1d36evZnjKwM"
      },
      "source": [
        "\n"
      ],
      "execution_count": null,
      "outputs": []
    },
    {
      "cell_type": "code",
      "metadata": {
        "id": "qYMfvRqUPgfO"
      },
      "source": [
        "#from google.colab import drive \n",
        "#drive.mount('/nanoaid')"
      ],
      "execution_count": null,
      "outputs": []
    },
    {
      "cell_type": "markdown",
      "metadata": {
        "id": "yAZcFMdYtgaD"
      },
      "source": [
        "# New Section"
      ]
    },
    {
      "cell_type": "markdown",
      "metadata": {
        "id": "3DIXeoX-sbrJ"
      },
      "source": [
        " **Final step**  \n",
        " 1. Give a good name to the file \n",
        " 2. Save to file by un-commenting\n",
        " "
      ]
    },
    {
      "cell_type": "code",
      "metadata": {
        "id": "EoyvHfP-PsVr"
      },
      "source": [
        "#!cp best_model_final.h5 \"/content/drive/My Drive/best_model_final12DecNiRMALAFile21.h5\""
      ],
      "execution_count": null,
      "outputs": []
    },
    {
      "cell_type": "code",
      "metadata": {
        "id": "-Vb5fjy9Rs8E"
      },
      "source": [
        ""
      ],
      "execution_count": null,
      "outputs": []
    },
    {
      "cell_type": "code",
      "metadata": {
        "id": "pRmS_VCy_clq"
      },
      "source": [
        ""
      ],
      "execution_count": null,
      "outputs": []
    },
    {
      "cell_type": "code",
      "metadata": {
        "id": "jwvtPYKfEI8K"
      },
      "source": [
        "!ls -l * "
      ],
      "execution_count": null,
      "outputs": []
    },
    {
      "cell_type": "code",
      "metadata": {
        "id": "7P7ZpSCwrPP-"
      },
      "source": [
        "\n",
        "#files.download(\"vggMEMSwires2.h5\")\n"
      ],
      "execution_count": null,
      "outputs": []
    },
    {
      "cell_type": "code",
      "metadata": {
        "id": "gox5D-3AK-iX"
      },
      "source": [
        "!ls"
      ],
      "execution_count": null,
      "outputs": []
    },
    {
      "cell_type": "code",
      "metadata": {
        "id": "gUGiNaRtKP1q"
      },
      "source": [
        "#files.download(\"vggMEMSwires.h5\")"
      ],
      "execution_count": null,
      "outputs": []
    },
    {
      "cell_type": "code",
      "metadata": {
        "id": "Du3gr0ZPirQ0"
      },
      "source": [
        "#history = model.fit_generator(train_generator, epochs=4, validation_data = validation_generator , verbose = 1)\n"
      ],
      "execution_count": null,
      "outputs": []
    },
    {
      "cell_type": "code",
      "metadata": {
        "id": "8P0_qW1sKHSj"
      },
      "source": [
        "test_generator.reset()\n"
      ],
      "execution_count": null,
      "outputs": []
    },
    {
      "cell_type": "code",
      "metadata": {
        "id": "1c-A91N40LZU"
      },
      "source": [
        "#STEP_SIZE_TEST=validation_generator.n//validation_generator.batch_size\n",
        "\n",
        "import numpy as np\n",
        "\n",
        "predictions =model.predict_generator(test_generator, steps=10, verbose=1)\n",
        "print(predictions)\n",
        "\n",
        "predicted_class_indices=np.argmax(predictions,axis=1)\n",
        "print(predicted_class_indices)\n",
        "\n",
        "labels = (test_generator.class_indices)\n",
        "labels = dict((v,k) for k,v in labels.items())\n",
        "predictionsanswers = [labels[k] for k in predicted_class_indices]\n",
        "\n"
      ],
      "execution_count": null,
      "outputs": []
    },
    {
      "cell_type": "code",
      "metadata": {
        "id": "cr-4otk0H7dX"
      },
      "source": [
        "predictions = model.predict_generator( train_generator , 6)\n",
        "\n"
      ],
      "execution_count": null,
      "outputs": []
    },
    {
      "cell_type": "code",
      "metadata": {
        "id": "VfCG2Y2GIHtz"
      },
      "source": [
        "print(predictions)\n",
        "\n"
      ],
      "execution_count": null,
      "outputs": []
    },
    {
      "cell_type": "code",
      "metadata": {
        "id": "Tu5tZNqQI2SH"
      },
      "source": [
        "predicted_class_indices=np.argmax(predictions,axis=-1)\n",
        "print(predicted_class_indices)\n"
      ],
      "execution_count": null,
      "outputs": []
    },
    {
      "cell_type": "code",
      "metadata": {
        "id": "CHFoJ_D4Iau0"
      },
      "source": [
        "filenames=test_generator.filenames\n",
        "\n",
        "print(filenames)"
      ],
      "execution_count": null,
      "outputs": []
    },
    {
      "cell_type": "code",
      "metadata": {
        "id": "N6xqEX8s03Xc"
      },
      "source": [
        "len(filenames)"
      ],
      "execution_count": null,
      "outputs": []
    },
    {
      "cell_type": "code",
      "metadata": {
        "id": "hBMhYE_4Kaec"
      },
      "source": [
        "for i in range( 3):\n",
        " print(predictionsanswers[i] , filenames[i] ) \n",
        "\n"
      ],
      "execution_count": null,
      "outputs": []
    },
    {
      "cell_type": "markdown",
      "metadata": {
        "id": "dLXQo2VKiaax"
      },
      "source": [
        "#Step 4: Visvalize\n",
        "\n",
        "Just change the slider below and then Run After this cell (Control + F10)"
      ]
    },
    {
      "cell_type": "code",
      "metadata": {
        "id": "VV9wQkIOiR24"
      },
      "source": [
        "pic_index = 45 #@param {type:\"slider\", min:2, max:400, step:1}\n"
      ],
      "execution_count": null,
      "outputs": []
    },
    {
      "cell_type": "code",
      "metadata": {
        "id": "O-fc8rSxfnAR"
      },
      "source": [
        "#pic_index = 100\n",
        "\n",
        "for i in range(SET_NUMBER_OF_CLASSES):\n",
        "  print('total training images:', len(os.listdir(ListofmyFolders[i])))\n",
        "  rock_files = os.listdir(ListofmyFolders[i])\n",
        "\n",
        "  next_rock = [os.path.join(ListofmyFolders[i], fname) \n",
        "                for fname in rock_files[pic_index-2:pic_index]]\n",
        "  for i, img_path in enumerate(next_rock):\n",
        "    #print(img_path)\n",
        "    img = mpimg.imread(img_path)\n",
        "    print(img_path)\n",
        "    print(img.shape)\n",
        "    plt.imshow(img)\n",
        "    plt.axis('Off')\n",
        "    plt.show()"
      ],
      "execution_count": null,
      "outputs": []
    },
    {
      "cell_type": "code",
      "metadata": {
        "id": "JGzfaGP0fnDg"
      },
      "source": [
        "# We preprocess the image into a 4D tensor\n",
        "from keras.preprocessing import image\n",
        "import numpy as np\n",
        "\n",
        "img = image.load_img(img_path, target_size=(150, 150))\n",
        "img_tensor = image.img_to_array(img)\n",
        "img_tensor = np.expand_dims(img_tensor, axis=0)\n",
        "# Remember that the model was trained on inputs\n",
        "# that were preprocessed in the following way:\n",
        "img_tensor /= 255.\n",
        "\n",
        "# Its shape is (1, 150, 150, 3)\n",
        "print(img_tensor.shape)"
      ],
      "execution_count": null,
      "outputs": []
    },
    {
      "cell_type": "code",
      "metadata": {
        "id": "aHEGPDDErsXE"
      },
      "source": [
        "plt.imshow(img)"
      ],
      "execution_count": null,
      "outputs": []
    },
    {
      "cell_type": "code",
      "metadata": {
        "id": "KcYj_geQl-c9"
      },
      "source": [
        "myinputlayer = 0\n",
        "for alayer in model.layers:\n",
        "  if alayer.name=='input_1':\n",
        "    print(str(alayer.name) + '    \\t \\t \\t ' +  str(alayer.trainable))\n",
        "    myinputlayer = alayer\n",
        "\n",
        "print(myinputlayer)"
      ],
      "execution_count": null,
      "outputs": []
    },
    {
      "cell_type": "code",
      "metadata": {
        "id": "NbM4JpBu5Wsi"
      },
      "source": [
        "#model.save('x.h5')\n"
      ],
      "execution_count": null,
      "outputs": []
    },
    {
      "cell_type": "code",
      "metadata": {
        "id": "CXW-0BN958v0"
      },
      "source": [
        "import keras\n",
        "\n"
      ],
      "execution_count": null,
      "outputs": []
    },
    {
      "cell_type": "code",
      "metadata": {
        "id": "Fw7073wv5glJ"
      },
      "source": [
        "from keras.models import load_model\n"
      ],
      "execution_count": null,
      "outputs": []
    },
    {
      "cell_type": "code",
      "metadata": {
        "id": "b-3YZ1TY5bNX"
      },
      "source": [
        "#model = load_model('x.h5')"
      ],
      "execution_count": null,
      "outputs": []
    },
    {
      "cell_type": "code",
      "metadata": {
        "id": "LzdC767nkfev"
      },
      "source": [
        "from keras import models\n",
        "\n",
        "#from tensorflow.compat.v1.keras.models import Model\n",
        "\n",
        "# Extracts the outputs of the top 8 layers:\n",
        "layer_outputs = [layer.output for layer in model.layers]\n",
        "# Creates a model that will return these outputs, given the model input:\n",
        "#activation_model = models.Model(inputs=pre_trained_model.input, outputs=layer_outputs)\n",
        "\n",
        "print( layer_outputs)\n",
        "\n",
        "print( layer_outputs[0])\n",
        "print( layer_outputs[18])\n",
        "\n",
        "\n"
      ],
      "execution_count": null,
      "outputs": []
    },
    {
      "cell_type": "code",
      "metadata": {
        "id": "RthvflBdtp-U"
      },
      "source": [
        "activation_model = models.Model(inputs=layer_outputs[0], outputs=layer_outputs[1])"
      ],
      "execution_count": null,
      "outputs": []
    },
    {
      "cell_type": "code",
      "metadata": {
        "id": "nXcTGM9U8pRJ"
      },
      "source": [
        "activations = activation_model.predict(img_tensor)\n"
      ],
      "execution_count": null,
      "outputs": []
    },
    {
      "cell_type": "code",
      "metadata": {
        "id": "A_2VoEOR9JA4"
      },
      "source": [
        "activations.shape"
      ],
      "execution_count": null,
      "outputs": []
    },
    {
      "cell_type": "code",
      "metadata": {
        "id": "A8sSZjRn9Ehc"
      },
      "source": [
        "first_layer_activation = activations[0]\n",
        "print(first_layer_activation.shape)"
      ],
      "execution_count": null,
      "outputs": []
    },
    {
      "cell_type": "code",
      "metadata": {
        "id": "ODZ0lYzi9bnB"
      },
      "source": [
        "import matplotlib.pyplot as plt\n",
        "\n",
        "plt.matshow(activations[0, :, :, 3], cmap='viridis')\n",
        "plt.show()"
      ],
      "execution_count": null,
      "outputs": []
    },
    {
      "cell_type": "code",
      "metadata": {
        "id": "qIiMHeDo9o99"
      },
      "source": [
        "activation_model = models.Model(inputs=layer_outputs[0], outputs=layer_outputs[4])"
      ],
      "execution_count": null,
      "outputs": []
    },
    {
      "cell_type": "code",
      "metadata": {
        "id": "Bbg6Pptr9zfu"
      },
      "source": [
        "activations = activation_model.predict(img_tensor)\n"
      ],
      "execution_count": null,
      "outputs": []
    },
    {
      "cell_type": "code",
      "metadata": {
        "id": "MYdflmGF_XoY"
      },
      "source": [
        "activations.shape"
      ],
      "execution_count": null,
      "outputs": []
    },
    {
      "cell_type": "code",
      "metadata": {
        "id": "-gchFjJj91Sr"
      },
      "source": [
        "plt.matshow(activations[0, :, :, 3], aspect='auto', cmap='viridis')\n",
        "plt.show()"
      ],
      "execution_count": null,
      "outputs": []
    },
    {
      "cell_type": "code",
      "metadata": {
        "id": "gwjdJDeO_Pwy"
      },
      "source": [
        "plt.matshow(activations[0, :, :, 3], aspect='auto', cmap='viridis')\n",
        "plt.show()"
      ],
      "execution_count": null,
      "outputs": []
    },
    {
      "cell_type": "code",
      "metadata": {
        "id": "NoTn4sf0BZBa"
      },
      "source": [
        "activation_model = models.Model(inputs=layer_outputs[0], outputs=layer_outputs[4])"
      ],
      "execution_count": null,
      "outputs": []
    },
    {
      "cell_type": "code",
      "metadata": {
        "id": "o2KAvN-htD7W"
      },
      "source": [
        "activation_model.summary()"
      ],
      "execution_count": null,
      "outputs": []
    },
    {
      "cell_type": "code",
      "metadata": {
        "id": "kUN_CP-XBlEc"
      },
      "source": [
        "activations = activation_model.predict(img_tensor)\n"
      ],
      "execution_count": null,
      "outputs": []
    },
    {
      "cell_type": "code",
      "metadata": {
        "id": "aZqP0QiEB8mi"
      },
      "source": [
        "layer_activation = activations[0]\n",
        "\n",
        "layer_activation.shape"
      ],
      "execution_count": null,
      "outputs": []
    },
    {
      "cell_type": "code",
      "metadata": {
        "id": "SjZZxqnECQ7s"
      },
      "source": [
        "activations.shape"
      ],
      "execution_count": null,
      "outputs": []
    },
    {
      "cell_type": "code",
      "metadata": {
        "id": "3i9QYxYZBKZ4"
      },
      "source": [
        "images_per_row = 8\n",
        "n_features = layer_activation.shape[-1]\n",
        "size = layer_activation.shape[1]\n",
        "\n",
        "\n",
        "print(n_features)\n",
        "\n",
        "n_cols = n_features // images_per_row\n",
        "display_grid = np.zeros((size * n_cols, images_per_row * size))\n",
        "\n",
        "print(n_cols)\n",
        "print(display_grid.shape)\n",
        "\n",
        "# We'll tile each filter into this big horizontal grid\n",
        "if True:\n",
        "  for col in range(n_cols):\n",
        "    for row in range(images_per_row):\n",
        "              channel_image = layer_activation[\n",
        "                                               :, :,\n",
        "                                               col * images_per_row + row]\n",
        "              # Post-process the feature to make it visually palatable\n",
        "              channel_image -= channel_image.mean()\n",
        "              channel_image /= channel_image.std()\n",
        "              channel_image *= 64\n",
        "              channel_image += 128\n",
        "              channel_image = np.clip(channel_image, 0, 255).astype('uint8')\n",
        "             # print(channel_image.shape)\n",
        "             # print(col * size)\n",
        "             # print((col + 1) * size)\n",
        "              display_grid[col * size : (col + 1) * size,\n",
        "                           row * size : (row + 1) * size] = channel_image\n",
        "\n",
        "    # Display the grid\n",
        "    scale = 1. / size\n",
        "    plt.figure(figsize=(scale * display_grid.shape[1],\n",
        "                          scale * display_grid.shape[0]))\n",
        "  plt.imshow(display_grid, aspect='auto', cmap='viridis')\n",
        "    \n",
        "plt.show()"
      ],
      "execution_count": null,
      "outputs": []
    },
    {
      "cell_type": "code",
      "metadata": {
        "id": "JadDDgEcPbLv"
      },
      "source": [
        "#plt.imshow(img_tensor)"
      ],
      "execution_count": null,
      "outputs": []
    },
    {
      "cell_type": "code",
      "metadata": {
        "id": "O1TYQptCSF-Q"
      },
      "source": [
        ""
      ],
      "execution_count": null,
      "outputs": []
    },
    {
      "cell_type": "code",
      "metadata": {
        "id": "BSLEXH0wSF7u"
      },
      "source": [
        ""
      ],
      "execution_count": null,
      "outputs": []
    },
    {
      "cell_type": "code",
      "metadata": {
        "id": "bUZEtO4YSF4S"
      },
      "source": [
        ""
      ],
      "execution_count": null,
      "outputs": []
    },
    {
      "cell_type": "code",
      "metadata": {
        "id": "s3giJwg_PbHr"
      },
      "source": [
        ""
      ],
      "execution_count": null,
      "outputs": []
    },
    {
      "cell_type": "code",
      "metadata": {
        "id": "bMcYAO0wPbEC"
      },
      "source": [
        "from keras.applications import VGG16\n",
        "from keras import backend as K\n",
        "\n",
        "#model = VGG16(weights='imagenet',              include_top=False)\n",
        "\n",
        "layer_name = 'block5_conv3'\n",
        "filter_index = 0\n",
        "\n",
        "layer_output = model.get_layer(layer_name).output\n",
        "loss = K.mean(layer_output[:, :, :, filter_index])"
      ],
      "execution_count": null,
      "outputs": []
    },
    {
      "cell_type": "code",
      "metadata": {
        "id": "mFPbSm3Utfxu"
      },
      "source": [
        "layer_output"
      ],
      "execution_count": null,
      "outputs": []
    },
    {
      "cell_type": "code",
      "metadata": {
        "id": "ro7_Z6zqPbAR"
      },
      "source": [
        "grads = K.gradients(loss, model.input)[0]\n"
      ],
      "execution_count": null,
      "outputs": []
    },
    {
      "cell_type": "code",
      "metadata": {
        "id": "U9afafp7Pa8e"
      },
      "source": [
        "# We add 1e-5 before dividing so as to avoid accidentally dividing by 0.\n",
        "grads /= (K.sqrt(K.mean(K.square(grads))) + 1e-5)"
      ],
      "execution_count": null,
      "outputs": []
    },
    {
      "cell_type": "code",
      "metadata": {
        "id": "FNCm9ROMPa3B"
      },
      "source": [
        "iterate = K.function([model.input], [loss, grads])\n",
        "\n",
        "# Let's test it:\n",
        "import numpy as np\n",
        "loss_value, grads_value = iterate([np.zeros((1, 150, 150, 3))])"
      ],
      "execution_count": null,
      "outputs": []
    },
    {
      "cell_type": "code",
      "metadata": {
        "id": "CLh1TKsrPayl"
      },
      "source": [
        "# We start from a gray image with some noise\n",
        "input_img_data = np.random.random((1, 150, 150, 3)) * 20 + 128.\n",
        "\n",
        "# Run gradient ascent for 40 steps\n",
        "step = 1.  # this is the magnitude of each gradient update\n",
        "for i in range(40):\n",
        "    # Compute the loss value and gradient value\n",
        "    loss_value, grads_value = iterate([input_img_data])\n",
        "    # Here we adjust the input image in the direction that maximizes the loss\n",
        "    input_img_data += grads_value * step"
      ],
      "execution_count": null,
      "outputs": []
    },
    {
      "cell_type": "code",
      "metadata": {
        "id": "ExVNYGDiPat-"
      },
      "source": [
        "def deprocess_image(x):\n",
        "    # normalize tensor: center on 0., ensure std is 0.1\n",
        "    x -= x.mean()\n",
        "    x /= (x.std() + 1e-5)\n",
        "    x *= 0.1\n",
        "\n",
        "    # clip to [0, 1]\n",
        "    x += 0.5\n",
        "    x = np.clip(x, 0, 1)\n",
        "\n",
        "    # convert to RGB array\n",
        "    x *= 255\n",
        "    x = np.clip(x, 0, 255).astype('uint8')\n",
        "    return x"
      ],
      "execution_count": null,
      "outputs": []
    },
    {
      "cell_type": "code",
      "metadata": {
        "id": "USnWqGzWPapR"
      },
      "source": [
        "def generate_pattern(layer_name, filter_index, size=150):\n",
        "    # Build a loss function that maximizes the activation\n",
        "    # of the nth filter of the layer considered.\n",
        "    layer_output = model.get_layer(layer_name).output\n",
        "    loss = K.mean(layer_output[:, :, :, filter_index])\n",
        "\n",
        "    # Compute the gradient of the input picture wrt this loss\n",
        "    grads = K.gradients(loss, model.input)[0]\n",
        "\n",
        "    # Normalization trick: we normalize the gradient\n",
        "    grads /= (K.sqrt(K.mean(K.square(grads))) + 1e-5)\n",
        "\n",
        "    # This function returns the loss and grads given the input picture\n",
        "    iterate = K.function([model.input], [loss, grads])\n",
        "    \n",
        "    # We start from a gray image with some noise\n",
        "    input_img_data = np.random.random((1, size, size, 3)) * 20 + 128.\n",
        "\n",
        "    # Run gradient ascent for 40 steps\n",
        "    step = 1.\n",
        "    for i in range(40):\n",
        "        loss_value, grads_value = iterate([input_img_data])\n",
        "        input_img_data += grads_value * step\n",
        "        \n",
        "    img = input_img_data[0]\n",
        "    return deprocess_image(img)"
      ],
      "execution_count": null,
      "outputs": []
    },
    {
      "cell_type": "markdown",
      "metadata": {
        "id": "4h8w4PtyYqIb"
      },
      "source": [
        "# Step 5: Final Predictions"
      ]
    },
    {
      "cell_type": "code",
      "metadata": {
        "id": "9JIR7yhsU2jO"
      },
      "source": [
        "test_datagen = ImageDataGenerator(rescale=1./255)\n",
        "\n",
        "test_generator = test_datagen.flow_from_directory(\n",
        "        TRAINING_DIR,\n",
        "        target_size=(150, 150),\n",
        "        color_mode=\"rgb\",\n",
        "        shuffle = False,\n",
        "        class_mode='categorical',\n",
        "        batch_size=1)\n",
        "\n",
        "filenames = test_generator.filenames\n",
        "nb_samples = len(filenames)\n",
        "\n",
        "predict = model.predict_generator(test_generator,steps = nb_samples)"
      ],
      "execution_count": null,
      "outputs": []
    },
    {
      "cell_type": "code",
      "metadata": {
        "id": "kYR_iR3lVt_Q"
      },
      "source": [
        "predict = model.predict_generator(test_generator,steps = nb_samples)"
      ],
      "execution_count": null,
      "outputs": []
    },
    {
      "cell_type": "code",
      "metadata": {
        "id": "cB0Sl0HjVxsI"
      },
      "source": [
        "print(nb_samples)\n",
        "print(predict)\n",
        "print(filenames)"
      ],
      "execution_count": null,
      "outputs": []
    },
    {
      "cell_type": "code",
      "metadata": {
        "id": "88XoAlnsYUBr"
      },
      "source": [
        "predicted_class_indices=np.argmax(predict,axis=1)\n",
        "print(predicted_class_indices)\n",
        "\n",
        "labels = (test_generator.class_indices)\n",
        "labels = dict((v,k) for k,v in labels.items())\n",
        "predictionsanswers = [labels[k] for k in predicted_class_indices]\n",
        "print(predictionsanswers)\n"
      ],
      "execution_count": null,
      "outputs": []
    },
    {
      "cell_type": "code",
      "metadata": {
        "id": "HgDXLCCNO8DO"
      },
      "source": [
        "generator = datagen.flow_from_directory(\n",
        "        'data/test',\n",
        "        target_size=(150, 150),\n",
        "        batch_size=16,\n",
        "        class_mode=None,  # only data, no labels\n",
        "        shuffle=False)  # keep data in same order as labels\n",
        "\n",
        "probabilities = model.predict_generator(generator, 2000)"
      ],
      "execution_count": null,
      "outputs": []
    },
    {
      "cell_type": "code",
      "metadata": {
        "id": "WD1o_KivOneD"
      },
      "source": [
        "from sklearn.metrics import confusion_matrix\n",
        "\n",
        "y_true = np.array([0] * 1000 + [1] * 1000)\n",
        "y_pred = predict > 0.5\n",
        "\n",
        "confusion_matrix(y_true, y_pred)"
      ],
      "execution_count": null,
      "outputs": []
    },
    {
      "cell_type": "code",
      "metadata": {
        "id": "BFy0xNbyqlyv"
      },
      "source": [
        "print(predicted_class_indices[20])\n",
        "print(labels(20))"
      ],
      "execution_count": null,
      "outputs": []
    },
    {
      "cell_type": "code",
      "metadata": {
        "id": "ILcJxv9BrCRO"
      },
      "source": [
        "labels = (test_generator.class_indices)\n",
        "print(labels)"
      ],
      "execution_count": null,
      "outputs": []
    },
    {
      "cell_type": "code",
      "metadata": {
        "id": "IWwcM17NjM3G"
      },
      "source": [
        "for i in range(SET_NUMBER_OF_CLASSES):\n",
        "  print('total training images:', len(os.listdir(ListofmyFolders[i])))\n",
        "  rock_files = os.listdir(ListofmyFolders[i])\n",
        "\n",
        "  next_rock = [os.path.join(ListofmyFolders[i], fname) \n",
        "                for fname in rock_files[pic_index-2:pic_index]]\n",
        "  for i, img_path in enumerate(next_rock):\n",
        "    #print(img_path)\n",
        "    img = mpimg.imread(img_path)\n",
        "    print(img_path)\n",
        "    print(img.shape)\n",
        "    plt.imshow(img)\n",
        "    plt.axis('Off')\n",
        "    plt.show()\n",
        "\n",
        "    "
      ],
      "execution_count": null,
      "outputs": []
    },
    {
      "cell_type": "code",
      "metadata": {
        "id": "5TO0H_YHjvLq"
      },
      "source": [
        "for X_batch, y_batch in test_generator.flow(X_train, y_train, batch_size=9):\n",
        "\t# create a grid of 3x3 images\n",
        "\tfor i in range(0, 9):\n",
        "\t\tpyplot.subplot(330 + 1 + i)\n",
        "\t\tpyplot.imshow(X_batch[i].reshape(28, 28), cmap=pyplot.get_cmap('gray'))\n",
        "\t# show the plot\n",
        "\tpyplot.show()"
      ],
      "execution_count": null,
      "outputs": []
    },
    {
      "cell_type": "code",
      "metadata": {
        "id": "V3fszUkTkjcM"
      },
      "source": [
        "x,y = test_generator.next()\n",
        "for i in range(0,1):\n",
        "    image = x[i]\n",
        "    plt.imshow(image)\n",
        "    plt.show()\n",
        "\n",
        "\n"
      ],
      "execution_count": null,
      "outputs": []
    },
    {
      "cell_type": "code",
      "metadata": {
        "id": "cZtAp5OulhQS"
      },
      "source": [
        "datagen = ImageDataGenerator(rotation_range=0)\n",
        "# fit parameters from data\n",
        "#datagen.fit(x)\n",
        "countindex = 1\n",
        "for X_batch, y_batch in datagen.flow(x, y, batch_size=1):\n",
        "  # create a grid of 3x3 images\n",
        "  plt.subplot(330 + 1 + i)\n",
        "  plt.imshow(X_batch[i].reshape(150, 150, 3))\n",
        "\t# show the plot\n",
        "  plt.show()\n",
        "  countindex = countindex + 1\n",
        "\n",
        "  if countindex == 2 :\n",
        "    break"
      ],
      "execution_count": null,
      "outputs": []
    },
    {
      "cell_type": "code",
      "metadata": {
        "id": "ru_bdrtQOf64"
      },
      "source": [
        "STOPHERE"
      ],
      "execution_count": null,
      "outputs": []
    },
    {
      "cell_type": "code",
      "metadata": {
        "id": "1g87g3BxQy0-"
      },
      "source": [
        "plt.imshow(generate_pattern('block3_conv1', 0))\n",
        "plt.show()"
      ],
      "execution_count": null,
      "outputs": []
    },
    {
      "cell_type": "code",
      "metadata": {
        "id": "KmKIcHgLQyuR"
      },
      "source": [
        "for i in range(64):\n",
        "  plt.imshow(generate_pattern('block5_conv3', i))\n",
        "  plt.show()"
      ],
      "execution_count": null,
      "outputs": []
    },
    {
      "cell_type": "code",
      "metadata": {
        "id": "dAHQnhKQaCv1"
      },
      "source": [
        "plt.imshow(generate_pattern('block5_conv3', 4))\n",
        "plt.show()"
      ],
      "execution_count": null,
      "outputs": []
    },
    {
      "cell_type": "code",
      "metadata": {
        "id": "RNyiEIDdh3We"
      },
      "source": [
        "model.save('GOODVisuvalizationx.h5')\n"
      ],
      "execution_count": null,
      "outputs": []
    },
    {
      "cell_type": "code",
      "metadata": {
        "id": "BmGBSyeViNkb"
      },
      "source": [
        "from google.colab import files\n",
        "files.download('GOODVisuvalizationx.h5') "
      ],
      "execution_count": null,
      "outputs": []
    },
    {
      "cell_type": "code",
      "metadata": {
        "id": "4o3GS8rpcJ_t"
      },
      "source": [
        "import matplotlib.pyplot as plt\n",
        "import matplotlib.gridspec as gridspec\n",
        "\n",
        "\n",
        "\n",
        "for j in range(16):\n",
        "  \n",
        "  plt.figure(figsize = (16,16))\n",
        "  gs1 = gridspec.GridSpec(8, 8)\n",
        "  gs1.update(wspace=0.005, hspace=0.005) # set the spacing between axes. \n",
        "\n",
        "  for i in range(16):\n",
        "     # i = i + 1 # grid spec indexes from 0\n",
        "\n",
        "      img = generate_pattern('test1', i + 16*j)\n",
        "\n",
        "      ax1 = plt.subplot(gs1[i])\n",
        "      plt.axis('off')\n",
        "      ax1.set_aspect('equal')\n",
        "      plt.imshow(img)\n",
        "\n",
        "  plt.show()"
      ],
      "execution_count": null,
      "outputs": []
    }
  ]
}